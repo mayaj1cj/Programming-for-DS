{
  "nbformat": 4,
  "nbformat_minor": 0,
  "metadata": {
    "colab": {
      "provenance": [],
      "include_colab_link": true
    },
    "kernelspec": {
      "name": "python3",
      "display_name": "Python 3"
    },
    "language_info": {
      "name": "python"
    }
  },
  "cells": [
    {
      "cell_type": "markdown",
      "metadata": {
        "id": "view-in-github",
        "colab_type": "text"
      },
      "source": [
        "<a href=\"https://colab.research.google.com/github/mayaj1cj/Programming-for-DS/blob/main/Maya_Due_4_Feb_at_10_pm.ipynb\" target=\"_parent\"><img src=\"https://colab.research.google.com/assets/colab-badge.svg\" alt=\"Open In Colab\"/></a>"
      ]
    },
    {
      "cell_type": "markdown",
      "source": [
        "## DS 1002 homework due Sunday Feb 4 at 10 pm\n"
      ],
      "metadata": {
        "id": "zAw2bmn-TjFJ"
      }
    },
    {
      "cell_type": "markdown",
      "source": [
        "\n",
        "The notebook from Wednesday's class is in my GitHib repository, including the little script we wrote at the end to find mangos in a list of fruit.  The file is called `MorePythonBasics.ipynb`.\n",
        "\n",
        "(By the way I wondered if the correct spelling was \"mangos\" or \"mangoes\" and I found [this](https://www.mango.org/blog-mangos-or-mangoes/)!  Who knew?  There's a National Mango Board!  And they're prepared to adjudicate this and other difficult mango-related questions.)\n",
        "\n",
        "\n"
      ],
      "metadata": {
        "id": "Cmf4xleCSWCu"
      }
    },
    {
      "cell_type": "code",
      "source": [],
      "metadata": {
        "id": "dgdrKrRRK9FO"
      },
      "execution_count": null,
      "outputs": []
    },
    {
      "cell_type": "markdown",
      "source": [
        "### Problem 1:  finding fruit\n",
        "\n",
        "Adapt the function we wrote in class so that it takes two arguments,\n",
        "\n",
        "`fruit` and `hungryfor` ,\n",
        "\n",
        "and then searches through the list `fruit` for the item `hungryfor`.  The line that calls the function should look like\n",
        "\n",
        "`find_fruit(food, hungryfor)`\n",
        "\n",
        "Make it print out the results in the same way, so for example if `food` is what we entered in class and `hungryfor = \"tomatoes\"` then the output will be\n",
        "\n",
        "```python\n",
        "No tomatoes here.\n",
        "No tomatoes here.\n",
        "No tomatoes here.\n",
        "No tomatoes here.\n",
        "No tomatoes here.\n",
        "```\n",
        "Test your code by changing the values of `food` and `hungryfor` and make sure the output is what you expect.  Show a few outputs, each in its own code chunk.\n",
        "\n"
      ],
      "metadata": {
        "id": "rJLyGryAThhp"
      }
    },
    {
      "cell_type": "code",
      "source": [
        "fruit = [\"oranges\", \"grapes\", \"strawberries\", \"mangos\", \"bananas\"]\n",
        "food = \"bananas\"\n",
        "hungryfor = \"strawberries\"\n",
        "def find_fruit(arg1, arg2):\n",
        "  for arg1 in fruit:\n",
        "        if arg1 == food:\n",
        "          print(\"These are \" + food)\n",
        "        else:\n",
        "          print(\"These are not \" + food)\n",
        "  for arg2 in fruit:\n",
        "    if arg2 == hungryfor :\n",
        "      print(\"Yay! We found \" + hungryfor)\n",
        "    else:\n",
        "      print(\"We did not find \" + hungryfor)"
      ],
      "metadata": {
        "id": "YXwLLFCt6H2f"
      },
      "execution_count": 1,
      "outputs": []
    },
    {
      "cell_type": "code",
      "source": [
        "find_fruit(food, hungryfor)"
      ],
      "metadata": {
        "id": "bYdqsfrh6KnE",
        "colab": {
          "base_uri": "https://localhost:8080/"
        },
        "outputId": "395f382f-7e80-422b-aae5-46d5a38d9789"
      },
      "execution_count": 2,
      "outputs": [
        {
          "output_type": "stream",
          "name": "stdout",
          "text": [
            "These are not bananas\n",
            "These are not bananas\n",
            "These are not bananas\n",
            "These are not bananas\n",
            "These are bananas\n",
            "We did not find strawberries\n",
            "We did not find strawberries\n",
            "Yay! We found strawberries\n",
            "We did not find strawberries\n",
            "We did not find strawberries\n"
          ]
        }
      ]
    },
    {
      "cell_type": "code",
      "source": [
        "fruit = [\"oranges\", \"grapes\", \"strawberries\", \"mangos\", \"bananas\"]\n",
        "food = \"grapes\"\n",
        "hungryfor = \"mangos\"\n",
        "def find_fruit(arg1, arg2):\n",
        "  for arg1 in fruit:\n",
        "        if arg1 == food:\n",
        "          print(\"These are \" + food)\n",
        "        else:\n",
        "          print(\"These are not \" + food)\n",
        "  for arg2 in fruit:\n",
        "    if arg2 == hungryfor :\n",
        "      print(\"Yay! We found \" + hungryfor)\n",
        "    else:\n",
        "      print(\"We did not find \" + hungryfor)"
      ],
      "metadata": {
        "id": "iDmIaz8kBjYQ"
      },
      "execution_count": 3,
      "outputs": []
    },
    {
      "cell_type": "code",
      "source": [
        "find_fruit(food, hungryfor)"
      ],
      "metadata": {
        "colab": {
          "base_uri": "https://localhost:8080/"
        },
        "id": "keR54MOjBohk",
        "outputId": "9a288fad-1da3-4a09-db91-bcc22153f364"
      },
      "execution_count": 4,
      "outputs": [
        {
          "output_type": "stream",
          "name": "stdout",
          "text": [
            "These are not grapes\n",
            "These are grapes\n",
            "These are not grapes\n",
            "These are not grapes\n",
            "These are not grapes\n",
            "We did not find mangos\n",
            "We did not find mangos\n",
            "We did not find mangos\n",
            "Yay! We found mangos\n",
            "We did not find mangos\n"
          ]
        }
      ]
    },
    {
      "cell_type": "code",
      "source": [
        "fruit = [\"oranges\", \"grapes\", \"strawberries\", \"mangos\", \"bananas\"]\n",
        "food = \"strawberries\"\n",
        "hungryfor = \"oranges\"\n",
        "def find_fruit(arg1, arg2):\n",
        "  for arg1 in fruit:\n",
        "        if arg1 == food:\n",
        "          print(\"These are \" + food)\n",
        "        else:\n",
        "          print(\"These are not \" + food)\n",
        "  for arg2 in fruit:\n",
        "    if arg2 == hungryfor :\n",
        "      print(\"Yay! We found \" + hungryfor)\n",
        "    else:\n",
        "      print(\"We did not find \" + hungryfor)"
      ],
      "metadata": {
        "id": "K80zKLn1B9Kq"
      },
      "execution_count": 7,
      "outputs": []
    },
    {
      "cell_type": "code",
      "source": [
        "find_fruit(food, hungryfor)"
      ],
      "metadata": {
        "colab": {
          "base_uri": "https://localhost:8080/"
        },
        "id": "2rHrp48iB802",
        "outputId": "3257d652-e84e-4521-d7c1-4ddd043cb338"
      },
      "execution_count": 8,
      "outputs": [
        {
          "output_type": "stream",
          "name": "stdout",
          "text": [
            "These are not strawberries\n",
            "These are not strawberries\n",
            "These are strawberries\n",
            "These are not strawberries\n",
            "These are not strawberries\n",
            "Yay! We found oranges\n",
            "We did not find oranges\n",
            "We did not find oranges\n",
            "We did not find oranges\n",
            "We did not find oranges\n"
          ]
        }
      ]
    },
    {
      "cell_type": "markdown",
      "source": [
        "#### Notes\n",
        "1. Once you have run a code chunk in the notebook, it will remember that it has been run.  You don't have to call the function in the same code chunk where the function is defined.  In other words, to call the function with new inputs you can simply make a new code chunk, change the inputs, and call the function.  *You don't have to retype the definition of the function each time.*\n",
        "\n",
        "2. Make sure you clean things up when you're done, so you don't include old code that doesn't work or old incorrect outputs.\n"
      ],
      "metadata": {
        "id": "AMp-a1ym6W7w"
      }
    },
    {
      "cell_type": "markdown",
      "source": [
        "### Problem 2:  the `input()` function\n",
        "\n",
        "(a) Programming gets way more fun when you start to interact with your own programs!  Here is a function that lets you start doing that.  Run the following code and see what happens:\n"
      ],
      "metadata": {
        "id": "R-s9cZ6GYWNX"
      }
    },
    {
      "cell_type": "code",
      "source": [
        "input()\n",
        "print(\"Hello there!\")"
      ],
      "metadata": {
        "id": "IEK8O2qNYkXn",
        "colab": {
          "base_uri": "https://localhost:8080/"
        },
        "outputId": "2c57ad4c-e46d-4d49-9782-a7fb3140b166"
      },
      "execution_count": 9,
      "outputs": [
        {
          "output_type": "stream",
          "name": "stdout",
          "text": [
            "Hello\n",
            "Hello there!\n"
          ]
        }
      ]
    },
    {
      "cell_type": "markdown",
      "source": [
        "(b) As you just saw, the code waits for you to enter something before it continues.  If you want to actually use the input in the code, you should assign its value to a variable:"
      ],
      "metadata": {
        "id": "sktZu8wWzFF6"
      }
    },
    {
      "cell_type": "code",
      "source": [
        "message = input()\n",
        "print(message)"
      ],
      "metadata": {
        "id": "fMmBkzbyz9Ty",
        "colab": {
          "base_uri": "https://localhost:8080/"
        },
        "outputId": "94839e16-bb0a-46b7-c587-18406b36f163"
      },
      "execution_count": 10,
      "outputs": [
        {
          "output_type": "stream",
          "name": "stdout",
          "text": [
            "Hi buddy!\n",
            "Hi buddy!\n"
          ]
        }
      ]
    },
    {
      "cell_type": "markdown",
      "source": [
        "(c) Now you can start interacting.  Write some code that asks the user what they are hungry for (using a print statement), and then takes the user input, and then runs the `find_fruit` function from the previous code block using the user input as the `hungryfor` variable.  Test your code, and then include a few different outputs that demonstrate that the code works."
      ],
      "metadata": {
        "id": "ny41z-dQYmjQ"
      }
    },
    {
      "cell_type": "code",
      "source": [
        "print(\"what are you hungry for?\")\n",
        "food = input(0)\n",
        "hungryfor = input(1)"
      ],
      "metadata": {
        "id": "SKAVoAZ00xOx",
        "colab": {
          "base_uri": "https://localhost:8080/"
        },
        "outputId": "c8dd4684-a161-4e7a-8df2-9d6041f86ed2"
      },
      "execution_count": 11,
      "outputs": [
        {
          "name": "stdout",
          "output_type": "stream",
          "text": [
            "what are you hungry for?\n",
            "0oranges\n",
            "1grapes\n"
          ]
        }
      ]
    },
    {
      "cell_type": "code",
      "source": [
        "find_fruit(\"oranges\", \"grapes\")"
      ],
      "metadata": {
        "id": "sQQVP1oa5dR7",
        "colab": {
          "base_uri": "https://localhost:8080/"
        },
        "outputId": "ffa5ad99-8b3f-411c-8f94-acf7d5b265f8"
      },
      "execution_count": 12,
      "outputs": [
        {
          "output_type": "stream",
          "name": "stdout",
          "text": [
            "These are oranges\n",
            "These are not oranges\n",
            "These are not oranges\n",
            "These are not oranges\n",
            "These are not oranges\n",
            "We did not find grapes\n",
            "Yay! We found grapes\n",
            "We did not find grapes\n",
            "We did not find grapes\n",
            "We did not find grapes\n"
          ]
        }
      ]
    },
    {
      "cell_type": "code",
      "source": [
        "print(\"what are you hungry for?\")\n",
        "food = input(0)\n",
        "hungryfor = input(1)"
      ],
      "metadata": {
        "colab": {
          "base_uri": "https://localhost:8080/"
        },
        "id": "rxlBFc3rmAue",
        "outputId": "d3bc71df-11a3-4307-f8c1-3060ce200c61"
      },
      "execution_count": 13,
      "outputs": [
        {
          "name": "stdout",
          "output_type": "stream",
          "text": [
            "what are you hungry for?\n",
            "0strawberries\n",
            "1mangos\n"
          ]
        }
      ]
    },
    {
      "cell_type": "code",
      "source": [
        "find_fruit(\"strawberries\", \"mangos\")"
      ],
      "metadata": {
        "colab": {
          "base_uri": "https://localhost:8080/"
        },
        "id": "vvufDHQ4mJQe",
        "outputId": "f8379f28-92a1-4bd9-cb7f-4676ce01211d"
      },
      "execution_count": 14,
      "outputs": [
        {
          "output_type": "stream",
          "name": "stdout",
          "text": [
            "These are not strawberries\n",
            "These are not strawberries\n",
            "These are strawberries\n",
            "These are not strawberries\n",
            "These are not strawberries\n",
            "We did not find mangos\n",
            "We did not find mangos\n",
            "We did not find mangos\n",
            "Yay! We found mangos\n",
            "We did not find mangos\n"
          ]
        }
      ]
    },
    {
      "cell_type": "markdown",
      "source": [
        "### Problem 3:  ratings  \n",
        "Write a piece of code which prompts a user with the question \"What is your rating? (1-10)\" and then asks for user input.  Let's say the input is 3.  Once the input is received, print out a message that says.\n",
        "\n",
        "\"Your rating is *** .\"\n",
        "\n",
        "Obviously, your program should print the number of stars corresponding to the input!  If the input is 5, it should print\n",
        "\n",
        "\"Your rating is ***** .\"\n",
        "\n",
        "Show at least two outputs of your code."
      ],
      "metadata": {
        "id": "5CWOlHBz0xoZ"
      }
    },
    {
      "cell_type": "code",
      "source": [
        "print(\"What is your rating? (1-10)\")\n",
        "rating = input()\n",
        "if rating == \"1\":\n",
        "  print(\"your rating is *\")\n",
        "if rating == \"2\":\n",
        "  print(\"your rating is **\")\n",
        "if rating == \"3\":\n",
        "  print(\"your rating is ***\")\n",
        "if rating == \"4\":\n",
        "  print(\"your rating is ****\")\n",
        "if rating == \"5\":\n",
        "  print(\"your rating is *****\")\n",
        "if rating == \"6\":\n",
        "  print(\"your rating is ******\")\n",
        "if rating == \"7\":\n",
        "  print(\"your rating is *******\")\n",
        "if rating == \"8\":\n",
        "  print(\"your rating is ********\")\n",
        "if rating == \"9\":\n",
        "  print(\"your rating is *********\")\n",
        "if rating == \"10\":\n",
        "  print(\"your rating is **********\")"
      ],
      "metadata": {
        "id": "MCWnTAUW2Gin",
        "colab": {
          "base_uri": "https://localhost:8080/"
        },
        "outputId": "82b27cca-ff67-4949-a7d0-ff27ae308929"
      },
      "execution_count": 15,
      "outputs": [
        {
          "output_type": "stream",
          "name": "stdout",
          "text": [
            "What is your rating? (1-10)\n",
            "9\n",
            "your rating is *********\n"
          ]
        }
      ]
    },
    {
      "cell_type": "code",
      "source": [
        "print(\"What is your rating? (1-10)\")\n",
        "rating = input()\n",
        "if rating == \"1\":\n",
        "  print(\"your rating is *\")\n",
        "if rating == \"2\":\n",
        "  print(\"your rating is **\")\n",
        "if rating == \"3\":\n",
        "  print(\"your rating is ***\")\n",
        "if rating == \"4\":\n",
        "  print(\"your rating is ****\")\n",
        "if rating == \"5\":\n",
        "  print(\"your rating is *****\")\n",
        "if rating == \"6\":\n",
        "  print(\"your rating is ******\")\n",
        "if rating == \"7\":\n",
        "  print(\"your rating is *******\")\n",
        "if rating == \"8\":\n",
        "  print(\"your rating is ********\")\n",
        "if rating == \"9\":\n",
        "  print(\"your rating is *********\")\n",
        "if rating == \"10\":\n",
        "  print(\"your rating is **********\")"
      ],
      "metadata": {
        "id": "nxm67oCk8Ukn",
        "colab": {
          "base_uri": "https://localhost:8080/"
        },
        "outputId": "0a25292c-ecbb-48db-aad4-7f8929cdee54"
      },
      "execution_count": 16,
      "outputs": [
        {
          "output_type": "stream",
          "name": "stdout",
          "text": [
            "What is your rating? (1-10)\n",
            "4\n",
            "your rating is ****\n"
          ]
        }
      ]
    },
    {
      "cell_type": "markdown",
      "source": [
        "You do not have to do this as part of the assignment, but one thing to think about with any code that has **interactivity** is that you want to make it **robust**.  This means you should imagine someone is *trying* to break your code, and you should try to make it as indestructible as possible.\n",
        "\n",
        "What will happen to your code if someone enters 3.5?  Or -12?  Or \"nonsense\"?  Test it and see.  Think about how you might guard against errors.\n"
      ],
      "metadata": {
        "id": "VRfc9puT2yac"
      }
    }
  ]
}