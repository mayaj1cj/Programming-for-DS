{
  "nbformat": 4,
  "nbformat_minor": 0,
  "metadata": {
    "colab": {
      "provenance": [],
      "authorship_tag": "ABX9TyPnyjH/KgmJzRmD2PzhPaRH",
      "include_colab_link": true
    },
    "kernelspec": {
      "name": "python3",
      "display_name": "Python 3"
    },
    "language_info": {
      "name": "python"
    }
  },
  "cells": [
    {
      "cell_type": "markdown",
      "metadata": {
        "id": "view-in-github",
        "colab_type": "text"
      },
      "source": [
        "<a href=\"https://colab.research.google.com/github/mayaj1cj/Programming-for-DS/blob/main/Maya_J_Guessing_Game.ipynb\" target=\"_parent\"><img src=\"https://colab.research.google.com/assets/colab-badge.svg\" alt=\"Open In Colab\"/></a>"
      ]
    },
    {
      "cell_type": "code",
      "execution_count": 1,
      "metadata": {
        "id": "JgltE9SaU2R1"
      },
      "outputs": [],
      "source": [
        "import numpy as np"
      ]
    },
    {
      "cell_type": "code",
      "source": [
        "number = np.random.randint(1, 100)"
      ],
      "metadata": {
        "id": "2acCNnolU7CJ"
      },
      "execution_count": 2,
      "outputs": []
    },
    {
      "cell_type": "code",
      "source": [
        "print(\"I will now select a number between 1-100\")\n",
        "print(number)\n",
        "\n",
        "guess = int(input(\"Guess the number:\"))\n",
        "\n",
        "\n",
        "def wrong_number():\n",
        "   if int(guess) >= 100:\n",
        "    print(\"Guess is too high, try again\")\n",
        "   elif  int(guess) <= 0:\n",
        "    print(\"Guess is too low, try again\")\n",
        "   elif int(guess) != number:\n",
        "    print(\"Sorry that was incorrect, try again\")\n",
        "   else:\n",
        "    print(\"Number is invalid\")\n",
        "\n",
        "def right_number():\n",
        "  if int(guess) == number:\n",
        "    print(\"You got it!\")\n",
        "\n",
        "while guess != number:\n",
        "  wrong_number()\n",
        "  guess = int(input())\n",
        "\n",
        "right_number()"
      ],
      "metadata": {
        "id": "lwCAMnnFVAt1"
      },
      "execution_count": null,
      "outputs": []
    }
  ]
}